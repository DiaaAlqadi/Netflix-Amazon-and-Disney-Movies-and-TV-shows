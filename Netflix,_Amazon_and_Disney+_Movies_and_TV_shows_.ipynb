{
  "nbformat": 4,
  "nbformat_minor": 0,
  "metadata": {
    "colab": {
      "provenance": [],
      "mount_file_id": "1gGih4kBzB_CTZgiyfgtcX-bTMvXmpFnn",
      "authorship_tag": "ABX9TyPpKyvHVv2n+aYvU5NHTG1H",
      "include_colab_link": true
    },
    "kernelspec": {
      "name": "python3",
      "display_name": "Python 3"
    },
    "language_info": {
      "name": "python"
    }
  },
  "cells": [
    {
      "cell_type": "markdown",
      "metadata": {
        "id": "view-in-github",
        "colab_type": "text"
      },
      "source": [
        "<a href=\"https://colab.research.google.com/github/DiaaAlqadi/Netflix-Amazon-and-Disney-Movies-and-TV-shows/blob/main/Netflix%2C_Amazon_and_Disney%2B_Movies_and_TV_shows_.ipynb\" target=\"_parent\"><img src=\"https://colab.research.google.com/assets/colab-badge.svg\" alt=\"Open In Colab\"/></a>"
      ]
    },
    {
      "cell_type": "markdown",
      "source": [
        "# Netflix, Amazon and Disney+ Movies and TV shows"
      ],
      "metadata": {
        "id": "bOL0lOQXYVa1"
      }
    },
    {
      "cell_type": "markdown",
      "source": [
        "## About the datasets:"
      ],
      "metadata": {
        "id": "HbuvKh8aYety"
      }
    },
    {
      "cell_type": "markdown",
      "source": [
        " Netflix is one of the most popular media and video streaming platforms. They have over 8000 movies or tv shows available on their platform, as of mid-2021, they have over 200M Subscribers globally. This tabular dataset consists of listings of all the movies and tv shows available on Netflix, along with details such as - cast, directors, ratings, release year, duration, etc.\n",
        " \n",
        " ![netflix_photo.png](data:image/png;base64,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)"
      ],
      "metadata": {
        "id": "ppiAzHniYkp7"
      }
    },
    {
      "cell_type": "markdown",
      "source": [
        "Disney+ is another one of the most popular media and video streaming platforms. They have close to 1300 movies or tv shows available on their platform, as of mid-2021, they have over 116M Subscribers globally. This tabular dataset consists of listings of all the movies and tv shows available on Amazon Prime, along with details such as - cast, directors, ratings, release year, duration, etc.\n",
        "\n",
        "\n",
        "![disney+_photo.png](data:image/png;base64,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)"
      ],
      "metadata": {
        "id": "eLH_lHlyZVN1"
      }
    },
    {
      "cell_type": "markdown",
      "source": [
        "mazon Prime is another one of the most popular media and video streaming platforms. They have close to 10000 movies or tv shows available on their platform, as of mid-2021, they have over 200M Subscribers globally. This tabular dataset consists of listings of all the movies and tv shows available on Amazon Prime, along with details such as - cast, directors, ratings, release year, duration, etc.\n",
        "\n",
        "\n",
        "![amazonphoto.png](data:image/png;base64,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)"
      ],
      "metadata": {
        "id": "Di4HrjgQZnrQ"
      }
    },
    {
      "cell_type": "markdown",
      "source": [
        "## The columns of the datasets:"
      ],
      "metadata": {
        "id": "1hRoROO5aGyn"
      }
    },
    {
      "cell_type": "markdown",
      "source": [
        "**id_show**: Unique ID for every Movie / Tv Show\n",
        "\n",
        "**type** : Movie or Tv Show\n",
        "\n",
        "**title** : Title of the movie or tv show\n",
        "\n",
        "**director** : The director of the movie or show\n",
        "\n",
        "**cast** : The cast of the movie or show\n",
        "\n",
        "**country** : Country of production\n",
        "\n",
        "**date_added** : Date added on the platform\n",
        "\n",
        "**release_year** : The year of release of the movie or show\n",
        "\n",
        "**rating** : The rating of the movie or show\n",
        "\n",
        "**duration** : Duration of the movie or show\n",
        "\n",
        "**listed_in** : Genere\n",
        "\n",
        "**description** : The description of the movie or show\n",
        "\n"
      ],
      "metadata": {
        "id": "b1JwwBaAb6wp"
      }
    },
    {
      "cell_type": "code",
      "source": [
        "from google.colab import drive\n",
        " \n",
        "drive.mount('/content/gdrive')"
      ],
      "metadata": {
        "colab": {
          "base_uri": "https://localhost:8080/"
        },
        "id": "L_0D05OPST8B",
        "outputId": "abc21929-4a71-4624-faac-42cca9ed12d2"
      },
      "execution_count": 39,
      "outputs": [
        {
          "output_type": "stream",
          "name": "stdout",
          "text": [
            "Drive already mounted at /content/gdrive; to attempt to forcibly remount, call drive.mount(\"/content/gdrive\", force_remount=True).\n"
          ]
        }
      ]
    },
    {
      "cell_type": "markdown",
      "source": [
        "## Importing the libraries:"
      ],
      "metadata": {
        "id": "dzwKqHPDaU7l"
      }
    },
    {
      "cell_type": "code",
      "source": [
        "import pandas as pd\n",
        "import numpy as np\n",
        "import matplotlib.pyplot as plt\n",
        "import seaborn as sns\n",
        "import scipy.stats as sc\n",
        "import math \n",
        "%matplotlib inline \n",
        "from statistics import mode\n",
        "import warnings\n",
        "warnings.filterwarnings('ignore')"
      ],
      "metadata": {
        "id": "jEWLiCXmYZfN"
      },
      "execution_count": 40,
      "outputs": []
    },
    {
      "cell_type": "markdown",
      "source": [
        "## Importing data:"
      ],
      "metadata": {
        "id": "MRIfgZLqbSTW"
      }
    },
    {
      "cell_type": "code",
      "source": [
        "netflix=pd.read_csv('/content/netflix_titles.csv')\n",
        "amazon=pd.read_csv('/content/amazon_prime_titles.csv')\n",
        "disney=pd.read_csv('/content/disney_plus_titles.csv')\n"
      ],
      "metadata": {
        "id": "Hr1lPlombMYl"
      },
      "execution_count": 41,
      "outputs": []
    },
    {
      "cell_type": "markdown",
      "source": [
        "## Discovering Data:"
      ],
      "metadata": {
        "id": "o1wrtrWrbt_0"
      }
    },
    {
      "cell_type": "code",
      "source": [
        "netflix.head(2)"
      ],
      "metadata": {
        "id": "pDZLOTDhbrpW",
        "colab": {
          "base_uri": "https://localhost:8080/",
          "height": 332
        },
        "outputId": "54ffd414-3d29-43f8-9182-ca5a7dbb7ba1"
      },
      "execution_count": 42,
      "outputs": [
        {
          "output_type": "execute_result",
          "data": {
            "text/plain": [
              "  show_id     type                 title         director  \\\n",
              "0      s1    Movie  Dick Johnson Is Dead  Kirsten Johnson   \n",
              "1      s2  TV Show         Blood & Water              NaN   \n",
              "\n",
              "                                                cast        country  \\\n",
              "0                                                NaN  United States   \n",
              "1  Ama Qamata, Khosi Ngema, Gail Mabalane, Thaban...   South Africa   \n",
              "\n",
              "           date_added  release_year rating   duration  \\\n",
              "0  September 25, 2021          2020  PG-13     90 min   \n",
              "1  September 24, 2021          2021  TV-MA  2 Seasons   \n",
              "\n",
              "                                         listed_in  \\\n",
              "0                                    Documentaries   \n",
              "1  International TV Shows, TV Dramas, TV Mysteries   \n",
              "\n",
              "                                         description  \n",
              "0  As her father nears the end of his life, filmm...  \n",
              "1  After crossing paths at a party, a Cape Town t...  "
            ],
            "text/html": [
              "\n",
              "  <div id=\"df-ae5ca38a-711b-40fe-aa6a-1618fd0556b9\">\n",
              "    <div class=\"colab-df-container\">\n",
              "      <div>\n",
              "<style scoped>\n",
              "    .dataframe tbody tr th:only-of-type {\n",
              "        vertical-align: middle;\n",
              "    }\n",
              "\n",
              "    .dataframe tbody tr th {\n",
              "        vertical-align: top;\n",
              "    }\n",
              "\n",
              "    .dataframe thead th {\n",
              "        text-align: right;\n",
              "    }\n",
              "</style>\n",
              "<table border=\"1\" class=\"dataframe\">\n",
              "  <thead>\n",
              "    <tr style=\"text-align: right;\">\n",
              "      <th></th>\n",
              "      <th>show_id</th>\n",
              "      <th>type</th>\n",
              "      <th>title</th>\n",
              "      <th>director</th>\n",
              "      <th>cast</th>\n",
              "      <th>country</th>\n",
              "      <th>date_added</th>\n",
              "      <th>release_year</th>\n",
              "      <th>rating</th>\n",
              "      <th>duration</th>\n",
              "      <th>listed_in</th>\n",
              "      <th>description</th>\n",
              "    </tr>\n",
              "  </thead>\n",
              "  <tbody>\n",
              "    <tr>\n",
              "      <th>0</th>\n",
              "      <td>s1</td>\n",
              "      <td>Movie</td>\n",
              "      <td>Dick Johnson Is Dead</td>\n",
              "      <td>Kirsten Johnson</td>\n",
              "      <td>NaN</td>\n",
              "      <td>United States</td>\n",
              "      <td>September 25, 2021</td>\n",
              "      <td>2020</td>\n",
              "      <td>PG-13</td>\n",
              "      <td>90 min</td>\n",
              "      <td>Documentaries</td>\n",
              "      <td>As her father nears the end of his life, filmm...</td>\n",
              "    </tr>\n",
              "    <tr>\n",
              "      <th>1</th>\n",
              "      <td>s2</td>\n",
              "      <td>TV Show</td>\n",
              "      <td>Blood &amp; Water</td>\n",
              "      <td>NaN</td>\n",
              "      <td>Ama Qamata, Khosi Ngema, Gail Mabalane, Thaban...</td>\n",
              "      <td>South Africa</td>\n",
              "      <td>September 24, 2021</td>\n",
              "      <td>2021</td>\n",
              "      <td>TV-MA</td>\n",
              "      <td>2 Seasons</td>\n",
              "      <td>International TV Shows, TV Dramas, TV Mysteries</td>\n",
              "      <td>After crossing paths at a party, a Cape Town t...</td>\n",
              "    </tr>\n",
              "  </tbody>\n",
              "</table>\n",
              "</div>\n",
              "      <button class=\"colab-df-convert\" onclick=\"convertToInteractive('df-ae5ca38a-711b-40fe-aa6a-1618fd0556b9')\"\n",
              "              title=\"Convert this dataframe to an interactive table.\"\n",
              "              style=\"display:none;\">\n",
              "        \n",
              "  <svg xmlns=\"http://www.w3.org/2000/svg\" height=\"24px\"viewBox=\"0 0 24 24\"\n",
              "       width=\"24px\">\n",
              "    <path d=\"M0 0h24v24H0V0z\" fill=\"none\"/>\n",
              "    <path d=\"M18.56 5.44l.94 2.06.94-2.06 2.06-.94-2.06-.94-.94-2.06-.94 2.06-2.06.94zm-11 1L8.5 8.5l.94-2.06 2.06-.94-2.06-.94L8.5 2.5l-.94 2.06-2.06.94zm10 10l.94 2.06.94-2.06 2.06-.94-2.06-.94-.94-2.06-.94 2.06-2.06.94z\"/><path d=\"M17.41 7.96l-1.37-1.37c-.4-.4-.92-.59-1.43-.59-.52 0-1.04.2-1.43.59L10.3 9.45l-7.72 7.72c-.78.78-.78 2.05 0 2.83L4 21.41c.39.39.9.59 1.41.59.51 0 1.02-.2 1.41-.59l7.78-7.78 2.81-2.81c.8-.78.8-2.07 0-2.86zM5.41 20L4 18.59l7.72-7.72 1.47 1.35L5.41 20z\"/>\n",
              "  </svg>\n",
              "      </button>\n",
              "      \n",
              "  <style>\n",
              "    .colab-df-container {\n",
              "      display:flex;\n",
              "      flex-wrap:wrap;\n",
              "      gap: 12px;\n",
              "    }\n",
              "\n",
              "    .colab-df-convert {\n",
              "      background-color: #E8F0FE;\n",
              "      border: none;\n",
              "      border-radius: 50%;\n",
              "      cursor: pointer;\n",
              "      display: none;\n",
              "      fill: #1967D2;\n",
              "      height: 32px;\n",
              "      padding: 0 0 0 0;\n",
              "      width: 32px;\n",
              "    }\n",
              "\n",
              "    .colab-df-convert:hover {\n",
              "      background-color: #E2EBFA;\n",
              "      box-shadow: 0px 1px 2px rgba(60, 64, 67, 0.3), 0px 1px 3px 1px rgba(60, 64, 67, 0.15);\n",
              "      fill: #174EA6;\n",
              "    }\n",
              "\n",
              "    [theme=dark] .colab-df-convert {\n",
              "      background-color: #3B4455;\n",
              "      fill: #D2E3FC;\n",
              "    }\n",
              "\n",
              "    [theme=dark] .colab-df-convert:hover {\n",
              "      background-color: #434B5C;\n",
              "      box-shadow: 0px 1px 3px 1px rgba(0, 0, 0, 0.15);\n",
              "      filter: drop-shadow(0px 1px 2px rgba(0, 0, 0, 0.3));\n",
              "      fill: #FFFFFF;\n",
              "    }\n",
              "  </style>\n",
              "\n",
              "      <script>\n",
              "        const buttonEl =\n",
              "          document.querySelector('#df-ae5ca38a-711b-40fe-aa6a-1618fd0556b9 button.colab-df-convert');\n",
              "        buttonEl.style.display =\n",
              "          google.colab.kernel.accessAllowed ? 'block' : 'none';\n",
              "\n",
              "        async function convertToInteractive(key) {\n",
              "          const element = document.querySelector('#df-ae5ca38a-711b-40fe-aa6a-1618fd0556b9');\n",
              "          const dataTable =\n",
              "            await google.colab.kernel.invokeFunction('convertToInteractive',\n",
              "                                                     [key], {});\n",
              "          if (!dataTable) return;\n",
              "\n",
              "          const docLinkHtml = 'Like what you see? Visit the ' +\n",
              "            '<a target=\"_blank\" href=https://colab.research.google.com/notebooks/data_table.ipynb>data table notebook</a>'\n",
              "            + ' to learn more about interactive tables.';\n",
              "          element.innerHTML = '';\n",
              "          dataTable['output_type'] = 'display_data';\n",
              "          await google.colab.output.renderOutput(dataTable, element);\n",
              "          const docLink = document.createElement('div');\n",
              "          docLink.innerHTML = docLinkHtml;\n",
              "          element.appendChild(docLink);\n",
              "        }\n",
              "      </script>\n",
              "    </div>\n",
              "  </div>\n",
              "  "
            ]
          },
          "metadata": {},
          "execution_count": 42
        }
      ]
    },
    {
      "cell_type": "code",
      "source": [
        "disney.head(2)"
      ],
      "metadata": {
        "id": "lY-S_Fh5bydP",
        "colab": {
          "base_uri": "https://localhost:8080/",
          "height": 315
        },
        "outputId": "56813700-ff87-45ce-9fa8-c8778f6be7d1"
      },
      "execution_count": 43,
      "outputs": [
        {
          "output_type": "execute_result",
          "data": {
            "text/plain": [
              "  show_id   type                                             title  \\\n",
              "0      s1  Movie  Duck the Halls: A Mickey Mouse Christmas Special   \n",
              "1      s2  Movie                            Ernest Saves Christmas   \n",
              "\n",
              "                            director  \\\n",
              "0  Alonso Ramirez Ramos, Dave Wasson   \n",
              "1                        John Cherry   \n",
              "\n",
              "                                                cast country  \\\n",
              "0  Chris Diamantopoulos, Tony Anselmo, Tress MacN...     NaN   \n",
              "1           Jim Varney, Noelle Parker, Douglas Seale     NaN   \n",
              "\n",
              "          date_added  release_year rating duration          listed_in  \\\n",
              "0  November 26, 2021          2016   TV-G   23 min  Animation, Family   \n",
              "1  November 26, 2021          1988     PG   91 min             Comedy   \n",
              "\n",
              "                                         description  \n",
              "0   Join Mickey and the gang as they duck the halls!  \n",
              "1  Santa Claus passes his magic bag to a new St. ...  "
            ],
            "text/html": [
              "\n",
              "  <div id=\"df-73b66054-9789-485d-b7b5-a21cb54bfdc1\">\n",
              "    <div class=\"colab-df-container\">\n",
              "      <div>\n",
              "<style scoped>\n",
              "    .dataframe tbody tr th:only-of-type {\n",
              "        vertical-align: middle;\n",
              "    }\n",
              "\n",
              "    .dataframe tbody tr th {\n",
              "        vertical-align: top;\n",
              "    }\n",
              "\n",
              "    .dataframe thead th {\n",
              "        text-align: right;\n",
              "    }\n",
              "</style>\n",
              "<table border=\"1\" class=\"dataframe\">\n",
              "  <thead>\n",
              "    <tr style=\"text-align: right;\">\n",
              "      <th></th>\n",
              "      <th>show_id</th>\n",
              "      <th>type</th>\n",
              "      <th>title</th>\n",
              "      <th>director</th>\n",
              "      <th>cast</th>\n",
              "      <th>country</th>\n",
              "      <th>date_added</th>\n",
              "      <th>release_year</th>\n",
              "      <th>rating</th>\n",
              "      <th>duration</th>\n",
              "      <th>listed_in</th>\n",
              "      <th>description</th>\n",
              "    </tr>\n",
              "  </thead>\n",
              "  <tbody>\n",
              "    <tr>\n",
              "      <th>0</th>\n",
              "      <td>s1</td>\n",
              "      <td>Movie</td>\n",
              "      <td>Duck the Halls: A Mickey Mouse Christmas Special</td>\n",
              "      <td>Alonso Ramirez Ramos, Dave Wasson</td>\n",
              "      <td>Chris Diamantopoulos, Tony Anselmo, Tress MacN...</td>\n",
              "      <td>NaN</td>\n",
              "      <td>November 26, 2021</td>\n",
              "      <td>2016</td>\n",
              "      <td>TV-G</td>\n",
              "      <td>23 min</td>\n",
              "      <td>Animation, Family</td>\n",
              "      <td>Join Mickey and the gang as they duck the halls!</td>\n",
              "    </tr>\n",
              "    <tr>\n",
              "      <th>1</th>\n",
              "      <td>s2</td>\n",
              "      <td>Movie</td>\n",
              "      <td>Ernest Saves Christmas</td>\n",
              "      <td>John Cherry</td>\n",
              "      <td>Jim Varney, Noelle Parker, Douglas Seale</td>\n",
              "      <td>NaN</td>\n",
              "      <td>November 26, 2021</td>\n",
              "      <td>1988</td>\n",
              "      <td>PG</td>\n",
              "      <td>91 min</td>\n",
              "      <td>Comedy</td>\n",
              "      <td>Santa Claus passes his magic bag to a new St. ...</td>\n",
              "    </tr>\n",
              "  </tbody>\n",
              "</table>\n",
              "</div>\n",
              "      <button class=\"colab-df-convert\" onclick=\"convertToInteractive('df-73b66054-9789-485d-b7b5-a21cb54bfdc1')\"\n",
              "              title=\"Convert this dataframe to an interactive table.\"\n",
              "              style=\"display:none;\">\n",
              "        \n",
              "  <svg xmlns=\"http://www.w3.org/2000/svg\" height=\"24px\"viewBox=\"0 0 24 24\"\n",
              "       width=\"24px\">\n",
              "    <path d=\"M0 0h24v24H0V0z\" fill=\"none\"/>\n",
              "    <path d=\"M18.56 5.44l.94 2.06.94-2.06 2.06-.94-2.06-.94-.94-2.06-.94 2.06-2.06.94zm-11 1L8.5 8.5l.94-2.06 2.06-.94-2.06-.94L8.5 2.5l-.94 2.06-2.06.94zm10 10l.94 2.06.94-2.06 2.06-.94-2.06-.94-.94-2.06-.94 2.06-2.06.94z\"/><path d=\"M17.41 7.96l-1.37-1.37c-.4-.4-.92-.59-1.43-.59-.52 0-1.04.2-1.43.59L10.3 9.45l-7.72 7.72c-.78.78-.78 2.05 0 2.83L4 21.41c.39.39.9.59 1.41.59.51 0 1.02-.2 1.41-.59l7.78-7.78 2.81-2.81c.8-.78.8-2.07 0-2.86zM5.41 20L4 18.59l7.72-7.72 1.47 1.35L5.41 20z\"/>\n",
              "  </svg>\n",
              "      </button>\n",
              "      \n",
              "  <style>\n",
              "    .colab-df-container {\n",
              "      display:flex;\n",
              "      flex-wrap:wrap;\n",
              "      gap: 12px;\n",
              "    }\n",
              "\n",
              "    .colab-df-convert {\n",
              "      background-color: #E8F0FE;\n",
              "      border: none;\n",
              "      border-radius: 50%;\n",
              "      cursor: pointer;\n",
              "      display: none;\n",
              "      fill: #1967D2;\n",
              "      height: 32px;\n",
              "      padding: 0 0 0 0;\n",
              "      width: 32px;\n",
              "    }\n",
              "\n",
              "    .colab-df-convert:hover {\n",
              "      background-color: #E2EBFA;\n",
              "      box-shadow: 0px 1px 2px rgba(60, 64, 67, 0.3), 0px 1px 3px 1px rgba(60, 64, 67, 0.15);\n",
              "      fill: #174EA6;\n",
              "    }\n",
              "\n",
              "    [theme=dark] .colab-df-convert {\n",
              "      background-color: #3B4455;\n",
              "      fill: #D2E3FC;\n",
              "    }\n",
              "\n",
              "    [theme=dark] .colab-df-convert:hover {\n",
              "      background-color: #434B5C;\n",
              "      box-shadow: 0px 1px 3px 1px rgba(0, 0, 0, 0.15);\n",
              "      filter: drop-shadow(0px 1px 2px rgba(0, 0, 0, 0.3));\n",
              "      fill: #FFFFFF;\n",
              "    }\n",
              "  </style>\n",
              "\n",
              "      <script>\n",
              "        const buttonEl =\n",
              "          document.querySelector('#df-73b66054-9789-485d-b7b5-a21cb54bfdc1 button.colab-df-convert');\n",
              "        buttonEl.style.display =\n",
              "          google.colab.kernel.accessAllowed ? 'block' : 'none';\n",
              "\n",
              "        async function convertToInteractive(key) {\n",
              "          const element = document.querySelector('#df-73b66054-9789-485d-b7b5-a21cb54bfdc1');\n",
              "          const dataTable =\n",
              "            await google.colab.kernel.invokeFunction('convertToInteractive',\n",
              "                                                     [key], {});\n",
              "          if (!dataTable) return;\n",
              "\n",
              "          const docLinkHtml = 'Like what you see? Visit the ' +\n",
              "            '<a target=\"_blank\" href=https://colab.research.google.com/notebooks/data_table.ipynb>data table notebook</a>'\n",
              "            + ' to learn more about interactive tables.';\n",
              "          element.innerHTML = '';\n",
              "          dataTable['output_type'] = 'display_data';\n",
              "          await google.colab.output.renderOutput(dataTable, element);\n",
              "          const docLink = document.createElement('div');\n",
              "          docLink.innerHTML = docLinkHtml;\n",
              "          element.appendChild(docLink);\n",
              "        }\n",
              "      </script>\n",
              "    </div>\n",
              "  </div>\n",
              "  "
            ]
          },
          "metadata": {},
          "execution_count": 43
        }
      ]
    },
    {
      "cell_type": "code",
      "source": [
        "amazon.head(2)"
      ],
      "metadata": {
        "id": "7B-l9j8cfUku",
        "colab": {
          "base_uri": "https://localhost:8080/",
          "height": 350
        },
        "outputId": "f4246c5a-3f41-48a3-daaf-c82882a8d40f"
      },
      "execution_count": 44,
      "outputs": [
        {
          "output_type": "execute_result",
          "data": {
            "text/plain": [
              "  show_id   type                 title      director  \\\n",
              "0      s1  Movie   The Grand Seduction  Don McKellar   \n",
              "1      s2  Movie  Take Care Good Night  Girish Joshi   \n",
              "\n",
              "                                               cast country      date_added  \\\n",
              "0    Brendan Gleeson, Taylor Kitsch, Gordon Pinsent  Canada  March 30, 2021   \n",
              "1  Mahesh Manjrekar, Abhay Mahajan, Sachin Khedekar   India  March 30, 2021   \n",
              "\n",
              "   release_year rating duration             listed_in  \\\n",
              "0          2014    NaN  113 min         Comedy, Drama   \n",
              "1          2018    13+  110 min  Drama, International   \n",
              "\n",
              "                                         description  \n",
              "0  A small fishing village must procure a local d...  \n",
              "1  A Metro Family decides to fight a Cyber Crimin...  "
            ],
            "text/html": [
              "\n",
              "  <div id=\"df-4d67be11-05b5-4958-963b-0a42be7bba3e\">\n",
              "    <div class=\"colab-df-container\">\n",
              "      <div>\n",
              "<style scoped>\n",
              "    .dataframe tbody tr th:only-of-type {\n",
              "        vertical-align: middle;\n",
              "    }\n",
              "\n",
              "    .dataframe tbody tr th {\n",
              "        vertical-align: top;\n",
              "    }\n",
              "\n",
              "    .dataframe thead th {\n",
              "        text-align: right;\n",
              "    }\n",
              "</style>\n",
              "<table border=\"1\" class=\"dataframe\">\n",
              "  <thead>\n",
              "    <tr style=\"text-align: right;\">\n",
              "      <th></th>\n",
              "      <th>show_id</th>\n",
              "      <th>type</th>\n",
              "      <th>title</th>\n",
              "      <th>director</th>\n",
              "      <th>cast</th>\n",
              "      <th>country</th>\n",
              "      <th>date_added</th>\n",
              "      <th>release_year</th>\n",
              "      <th>rating</th>\n",
              "      <th>duration</th>\n",
              "      <th>listed_in</th>\n",
              "      <th>description</th>\n",
              "    </tr>\n",
              "  </thead>\n",
              "  <tbody>\n",
              "    <tr>\n",
              "      <th>0</th>\n",
              "      <td>s1</td>\n",
              "      <td>Movie</td>\n",
              "      <td>The Grand Seduction</td>\n",
              "      <td>Don McKellar</td>\n",
              "      <td>Brendan Gleeson, Taylor Kitsch, Gordon Pinsent</td>\n",
              "      <td>Canada</td>\n",
              "      <td>March 30, 2021</td>\n",
              "      <td>2014</td>\n",
              "      <td>NaN</td>\n",
              "      <td>113 min</td>\n",
              "      <td>Comedy, Drama</td>\n",
              "      <td>A small fishing village must procure a local d...</td>\n",
              "    </tr>\n",
              "    <tr>\n",
              "      <th>1</th>\n",
              "      <td>s2</td>\n",
              "      <td>Movie</td>\n",
              "      <td>Take Care Good Night</td>\n",
              "      <td>Girish Joshi</td>\n",
              "      <td>Mahesh Manjrekar, Abhay Mahajan, Sachin Khedekar</td>\n",
              "      <td>India</td>\n",
              "      <td>March 30, 2021</td>\n",
              "      <td>2018</td>\n",
              "      <td>13+</td>\n",
              "      <td>110 min</td>\n",
              "      <td>Drama, International</td>\n",
              "      <td>A Metro Family decides to fight a Cyber Crimin...</td>\n",
              "    </tr>\n",
              "  </tbody>\n",
              "</table>\n",
              "</div>\n",
              "      <button class=\"colab-df-convert\" onclick=\"convertToInteractive('df-4d67be11-05b5-4958-963b-0a42be7bba3e')\"\n",
              "              title=\"Convert this dataframe to an interactive table.\"\n",
              "              style=\"display:none;\">\n",
              "        \n",
              "  <svg xmlns=\"http://www.w3.org/2000/svg\" height=\"24px\"viewBox=\"0 0 24 24\"\n",
              "       width=\"24px\">\n",
              "    <path d=\"M0 0h24v24H0V0z\" fill=\"none\"/>\n",
              "    <path d=\"M18.56 5.44l.94 2.06.94-2.06 2.06-.94-2.06-.94-.94-2.06-.94 2.06-2.06.94zm-11 1L8.5 8.5l.94-2.06 2.06-.94-2.06-.94L8.5 2.5l-.94 2.06-2.06.94zm10 10l.94 2.06.94-2.06 2.06-.94-2.06-.94-.94-2.06-.94 2.06-2.06.94z\"/><path d=\"M17.41 7.96l-1.37-1.37c-.4-.4-.92-.59-1.43-.59-.52 0-1.04.2-1.43.59L10.3 9.45l-7.72 7.72c-.78.78-.78 2.05 0 2.83L4 21.41c.39.39.9.59 1.41.59.51 0 1.02-.2 1.41-.59l7.78-7.78 2.81-2.81c.8-.78.8-2.07 0-2.86zM5.41 20L4 18.59l7.72-7.72 1.47 1.35L5.41 20z\"/>\n",
              "  </svg>\n",
              "      </button>\n",
              "      \n",
              "  <style>\n",
              "    .colab-df-container {\n",
              "      display:flex;\n",
              "      flex-wrap:wrap;\n",
              "      gap: 12px;\n",
              "    }\n",
              "\n",
              "    .colab-df-convert {\n",
              "      background-color: #E8F0FE;\n",
              "      border: none;\n",
              "      border-radius: 50%;\n",
              "      cursor: pointer;\n",
              "      display: none;\n",
              "      fill: #1967D2;\n",
              "      height: 32px;\n",
              "      padding: 0 0 0 0;\n",
              "      width: 32px;\n",
              "    }\n",
              "\n",
              "    .colab-df-convert:hover {\n",
              "      background-color: #E2EBFA;\n",
              "      box-shadow: 0px 1px 2px rgba(60, 64, 67, 0.3), 0px 1px 3px 1px rgba(60, 64, 67, 0.15);\n",
              "      fill: #174EA6;\n",
              "    }\n",
              "\n",
              "    [theme=dark] .colab-df-convert {\n",
              "      background-color: #3B4455;\n",
              "      fill: #D2E3FC;\n",
              "    }\n",
              "\n",
              "    [theme=dark] .colab-df-convert:hover {\n",
              "      background-color: #434B5C;\n",
              "      box-shadow: 0px 1px 3px 1px rgba(0, 0, 0, 0.15);\n",
              "      filter: drop-shadow(0px 1px 2px rgba(0, 0, 0, 0.3));\n",
              "      fill: #FFFFFF;\n",
              "    }\n",
              "  </style>\n",
              "\n",
              "      <script>\n",
              "        const buttonEl =\n",
              "          document.querySelector('#df-4d67be11-05b5-4958-963b-0a42be7bba3e button.colab-df-convert');\n",
              "        buttonEl.style.display =\n",
              "          google.colab.kernel.accessAllowed ? 'block' : 'none';\n",
              "\n",
              "        async function convertToInteractive(key) {\n",
              "          const element = document.querySelector('#df-4d67be11-05b5-4958-963b-0a42be7bba3e');\n",
              "          const dataTable =\n",
              "            await google.colab.kernel.invokeFunction('convertToInteractive',\n",
              "                                                     [key], {});\n",
              "          if (!dataTable) return;\n",
              "\n",
              "          const docLinkHtml = 'Like what you see? Visit the ' +\n",
              "            '<a target=\"_blank\" href=https://colab.research.google.com/notebooks/data_table.ipynb>data table notebook</a>'\n",
              "            + ' to learn more about interactive tables.';\n",
              "          element.innerHTML = '';\n",
              "          dataTable['output_type'] = 'display_data';\n",
              "          await google.colab.output.renderOutput(dataTable, element);\n",
              "          const docLink = document.createElement('div');\n",
              "          docLink.innerHTML = docLinkHtml;\n",
              "          element.appendChild(docLink);\n",
              "        }\n",
              "      </script>\n",
              "    </div>\n",
              "  </div>\n",
              "  "
            ]
          },
          "metadata": {},
          "execution_count": 44
        }
      ]
    },
    {
      "cell_type": "markdown",
      "source": [
        "## Some information about the data:"
      ],
      "metadata": {
        "id": "KNtTGJbdgQiY"
      }
    },
    {
      "cell_type": "code",
      "source": [
        "print('The shape of netflix dataset : ',netflix.shape)\n",
        "print('The shape of amazon dataset : ',amazon.shape)\n",
        "print('The shape of disney dataset : ',disney.shape)"
      ],
      "metadata": {
        "colab": {
          "base_uri": "https://localhost:8080/"
        },
        "id": "8Nz9BmXOf890",
        "outputId": "1c2e0ec7-0b3c-465c-8a7d-6ce2b6258b34"
      },
      "execution_count": 45,
      "outputs": [
        {
          "output_type": "stream",
          "name": "stdout",
          "text": [
            "The shape of netflix dataset :  (8807, 12)\n",
            "The shape of amazon dataset :  (9668, 12)\n",
            "The shape of disney dataset :  (1450, 12)\n"
          ]
        }
      ]
    },
    {
      "cell_type": "code",
      "source": [
        "netflix.info()"
      ],
      "metadata": {
        "id": "iHX2q7lqgtob",
        "colab": {
          "base_uri": "https://localhost:8080/"
        },
        "outputId": "76162b44-950c-48be-f16c-7643db34b377"
      },
      "execution_count": 46,
      "outputs": [
        {
          "output_type": "stream",
          "name": "stdout",
          "text": [
            "<class 'pandas.core.frame.DataFrame'>\n",
            "RangeIndex: 8807 entries, 0 to 8806\n",
            "Data columns (total 12 columns):\n",
            " #   Column        Non-Null Count  Dtype \n",
            "---  ------        --------------  ----- \n",
            " 0   show_id       8807 non-null   object\n",
            " 1   type          8807 non-null   object\n",
            " 2   title         8807 non-null   object\n",
            " 3   director      6173 non-null   object\n",
            " 4   cast          7982 non-null   object\n",
            " 5   country       7976 non-null   object\n",
            " 6   date_added    8797 non-null   object\n",
            " 7   release_year  8807 non-null   int64 \n",
            " 8   rating        8803 non-null   object\n",
            " 9   duration      8804 non-null   object\n",
            " 10  listed_in     8807 non-null   object\n",
            " 11  description   8807 non-null   object\n",
            "dtypes: int64(1), object(11)\n",
            "memory usage: 825.8+ KB\n"
          ]
        }
      ]
    },
    {
      "cell_type": "markdown",
      "source": [
        "The dataset contains nulls."
      ],
      "metadata": {
        "id": "wXevea-BYVMp"
      }
    },
    {
      "cell_type": "code",
      "source": [
        "disney.info()"
      ],
      "metadata": {
        "id": "x0zp1Tjigz_a",
        "colab": {
          "base_uri": "https://localhost:8080/"
        },
        "outputId": "2f45320c-0c44-4e0d-9f4a-c2419bd6d9a4"
      },
      "execution_count": 47,
      "outputs": [
        {
          "output_type": "stream",
          "name": "stdout",
          "text": [
            "<class 'pandas.core.frame.DataFrame'>\n",
            "RangeIndex: 1450 entries, 0 to 1449\n",
            "Data columns (total 12 columns):\n",
            " #   Column        Non-Null Count  Dtype \n",
            "---  ------        --------------  ----- \n",
            " 0   show_id       1450 non-null   object\n",
            " 1   type          1450 non-null   object\n",
            " 2   title         1450 non-null   object\n",
            " 3   director      977 non-null    object\n",
            " 4   cast          1260 non-null   object\n",
            " 5   country       1231 non-null   object\n",
            " 6   date_added    1447 non-null   object\n",
            " 7   release_year  1450 non-null   int64 \n",
            " 8   rating        1447 non-null   object\n",
            " 9   duration      1450 non-null   object\n",
            " 10  listed_in     1450 non-null   object\n",
            " 11  description   1450 non-null   object\n",
            "dtypes: int64(1), object(11)\n",
            "memory usage: 136.1+ KB\n"
          ]
        }
      ]
    },
    {
      "cell_type": "markdown",
      "source": [
        "The dataset contains nulls."
      ],
      "metadata": {
        "id": "2i4nI0KtYZnd"
      }
    },
    {
      "cell_type": "code",
      "source": [
        "amazon.info()"
      ],
      "metadata": {
        "id": "hctYB1AOhA4b",
        "colab": {
          "base_uri": "https://localhost:8080/"
        },
        "outputId": "55a5538e-3b63-4384-bcc9-997fe76be357"
      },
      "execution_count": 48,
      "outputs": [
        {
          "output_type": "stream",
          "name": "stdout",
          "text": [
            "<class 'pandas.core.frame.DataFrame'>\n",
            "RangeIndex: 9668 entries, 0 to 9667\n",
            "Data columns (total 12 columns):\n",
            " #   Column        Non-Null Count  Dtype \n",
            "---  ------        --------------  ----- \n",
            " 0   show_id       9668 non-null   object\n",
            " 1   type          9668 non-null   object\n",
            " 2   title         9668 non-null   object\n",
            " 3   director      7586 non-null   object\n",
            " 4   cast          8435 non-null   object\n",
            " 5   country       672 non-null    object\n",
            " 6   date_added    155 non-null    object\n",
            " 7   release_year  9668 non-null   int64 \n",
            " 8   rating        9331 non-null   object\n",
            " 9   duration      9668 non-null   object\n",
            " 10  listed_in     9668 non-null   object\n",
            " 11  description   9668 non-null   object\n",
            "dtypes: int64(1), object(11)\n",
            "memory usage: 906.5+ KB\n"
          ]
        }
      ]
    },
    {
      "cell_type": "markdown",
      "source": [
        "The dataset contains nulls."
      ],
      "metadata": {
        "id": "pIdkQ1hZYfOB"
      }
    },
    {
      "cell_type": "markdown",
      "source": [
        "## Concatinating the datasets into one dataset:\n"
      ],
      "metadata": {
        "id": "rWW_2xFzhngE"
      }
    },
    {
      "cell_type": "code",
      "source": [
        "netflix['platform']='netflix'\n",
        "amazon['platform']='amazon'\n",
        "disney['platform']= 'disney'"
      ],
      "metadata": {
        "id": "FnR1SwbhhLzh"
      },
      "execution_count": 49,
      "outputs": []
    },
    {
      "cell_type": "markdown",
      "source": [
        "We added a new column to the data set called **platform** so that we can filter the movies and the shows based on it."
      ],
      "metadata": {
        "id": "pDzgxddujvlB"
      }
    },
    {
      "cell_type": "code",
      "source": [
        "df=pd.concat([netflix,amazon,disney],ignore_index=True)\n",
        "df['date_added'] = df['date_added'].str.strip()\n",
        "df['date_added']= pd.to_datetime(df['date_added'], format='%B %d, %Y')\n",
        "df.head(1)"
      ],
      "metadata": {
        "id": "Htv9R771hYKT",
        "colab": {
          "base_uri": "https://localhost:8080/",
          "height": 197
        },
        "outputId": "cfeadc34-6424-458c-9801-eea434f414b0"
      },
      "execution_count": 84,
      "outputs": [
        {
          "output_type": "execute_result",
          "data": {
            "text/plain": [
              "  show_id   type                 title         director cast        country  \\\n",
              "0      s1  Movie  Dick Johnson Is Dead  Kirsten Johnson  NaN  United States   \n",
              "\n",
              "  date_added  release_year rating duration      listed_in  \\\n",
              "0 2021-09-25          2020  PG-13   90 min  Documentaries   \n",
              "\n",
              "                                         description platform  \n",
              "0  As her father nears the end of his life, filmm...  netflix  "
            ],
            "text/html": [
              "\n",
              "  <div id=\"df-062a8b9f-f847-45ee-88c5-1951673c7d30\">\n",
              "    <div class=\"colab-df-container\">\n",
              "      <div>\n",
              "<style scoped>\n",
              "    .dataframe tbody tr th:only-of-type {\n",
              "        vertical-align: middle;\n",
              "    }\n",
              "\n",
              "    .dataframe tbody tr th {\n",
              "        vertical-align: top;\n",
              "    }\n",
              "\n",
              "    .dataframe thead th {\n",
              "        text-align: right;\n",
              "    }\n",
              "</style>\n",
              "<table border=\"1\" class=\"dataframe\">\n",
              "  <thead>\n",
              "    <tr style=\"text-align: right;\">\n",
              "      <th></th>\n",
              "      <th>show_id</th>\n",
              "      <th>type</th>\n",
              "      <th>title</th>\n",
              "      <th>director</th>\n",
              "      <th>cast</th>\n",
              "      <th>country</th>\n",
              "      <th>date_added</th>\n",
              "      <th>release_year</th>\n",
              "      <th>rating</th>\n",
              "      <th>duration</th>\n",
              "      <th>listed_in</th>\n",
              "      <th>description</th>\n",
              "      <th>platform</th>\n",
              "    </tr>\n",
              "  </thead>\n",
              "  <tbody>\n",
              "    <tr>\n",
              "      <th>0</th>\n",
              "      <td>s1</td>\n",
              "      <td>Movie</td>\n",
              "      <td>Dick Johnson Is Dead</td>\n",
              "      <td>Kirsten Johnson</td>\n",
              "      <td>NaN</td>\n",
              "      <td>United States</td>\n",
              "      <td>2021-09-25</td>\n",
              "      <td>2020</td>\n",
              "      <td>PG-13</td>\n",
              "      <td>90 min</td>\n",
              "      <td>Documentaries</td>\n",
              "      <td>As her father nears the end of his life, filmm...</td>\n",
              "      <td>netflix</td>\n",
              "    </tr>\n",
              "  </tbody>\n",
              "</table>\n",
              "</div>\n",
              "      <button class=\"colab-df-convert\" onclick=\"convertToInteractive('df-062a8b9f-f847-45ee-88c5-1951673c7d30')\"\n",
              "              title=\"Convert this dataframe to an interactive table.\"\n",
              "              style=\"display:none;\">\n",
              "        \n",
              "  <svg xmlns=\"http://www.w3.org/2000/svg\" height=\"24px\"viewBox=\"0 0 24 24\"\n",
              "       width=\"24px\">\n",
              "    <path d=\"M0 0h24v24H0V0z\" fill=\"none\"/>\n",
              "    <path d=\"M18.56 5.44l.94 2.06.94-2.06 2.06-.94-2.06-.94-.94-2.06-.94 2.06-2.06.94zm-11 1L8.5 8.5l.94-2.06 2.06-.94-2.06-.94L8.5 2.5l-.94 2.06-2.06.94zm10 10l.94 2.06.94-2.06 2.06-.94-2.06-.94-.94-2.06-.94 2.06-2.06.94z\"/><path d=\"M17.41 7.96l-1.37-1.37c-.4-.4-.92-.59-1.43-.59-.52 0-1.04.2-1.43.59L10.3 9.45l-7.72 7.72c-.78.78-.78 2.05 0 2.83L4 21.41c.39.39.9.59 1.41.59.51 0 1.02-.2 1.41-.59l7.78-7.78 2.81-2.81c.8-.78.8-2.07 0-2.86zM5.41 20L4 18.59l7.72-7.72 1.47 1.35L5.41 20z\"/>\n",
              "  </svg>\n",
              "      </button>\n",
              "      \n",
              "  <style>\n",
              "    .colab-df-container {\n",
              "      display:flex;\n",
              "      flex-wrap:wrap;\n",
              "      gap: 12px;\n",
              "    }\n",
              "\n",
              "    .colab-df-convert {\n",
              "      background-color: #E8F0FE;\n",
              "      border: none;\n",
              "      border-radius: 50%;\n",
              "      cursor: pointer;\n",
              "      display: none;\n",
              "      fill: #1967D2;\n",
              "      height: 32px;\n",
              "      padding: 0 0 0 0;\n",
              "      width: 32px;\n",
              "    }\n",
              "\n",
              "    .colab-df-convert:hover {\n",
              "      background-color: #E2EBFA;\n",
              "      box-shadow: 0px 1px 2px rgba(60, 64, 67, 0.3), 0px 1px 3px 1px rgba(60, 64, 67, 0.15);\n",
              "      fill: #174EA6;\n",
              "    }\n",
              "\n",
              "    [theme=dark] .colab-df-convert {\n",
              "      background-color: #3B4455;\n",
              "      fill: #D2E3FC;\n",
              "    }\n",
              "\n",
              "    [theme=dark] .colab-df-convert:hover {\n",
              "      background-color: #434B5C;\n",
              "      box-shadow: 0px 1px 3px 1px rgba(0, 0, 0, 0.15);\n",
              "      filter: drop-shadow(0px 1px 2px rgba(0, 0, 0, 0.3));\n",
              "      fill: #FFFFFF;\n",
              "    }\n",
              "  </style>\n",
              "\n",
              "      <script>\n",
              "        const buttonEl =\n",
              "          document.querySelector('#df-062a8b9f-f847-45ee-88c5-1951673c7d30 button.colab-df-convert');\n",
              "        buttonEl.style.display =\n",
              "          google.colab.kernel.accessAllowed ? 'block' : 'none';\n",
              "\n",
              "        async function convertToInteractive(key) {\n",
              "          const element = document.querySelector('#df-062a8b9f-f847-45ee-88c5-1951673c7d30');\n",
              "          const dataTable =\n",
              "            await google.colab.kernel.invokeFunction('convertToInteractive',\n",
              "                                                     [key], {});\n",
              "          if (!dataTable) return;\n",
              "\n",
              "          const docLinkHtml = 'Like what you see? Visit the ' +\n",
              "            '<a target=\"_blank\" href=https://colab.research.google.com/notebooks/data_table.ipynb>data table notebook</a>'\n",
              "            + ' to learn more about interactive tables.';\n",
              "          element.innerHTML = '';\n",
              "          dataTable['output_type'] = 'display_data';\n",
              "          await google.colab.output.renderOutput(dataTable, element);\n",
              "          const docLink = document.createElement('div');\n",
              "          docLink.innerHTML = docLinkHtml;\n",
              "          element.appendChild(docLink);\n",
              "        }\n",
              "      </script>\n",
              "    </div>\n",
              "  </div>\n",
              "  "
            ]
          },
          "metadata": {},
          "execution_count": 84
        }
      ]
    },
    {
      "cell_type": "markdown",
      "source": [
        "After concatination, we transformed the date's type from string to **datetime** so that we can deal with it and extract insights easly."
      ],
      "metadata": {
        "id": "GVLYwGijkLYU"
      }
    },
    {
      "cell_type": "code",
      "source": [
        "df.shape"
      ],
      "metadata": {
        "colab": {
          "base_uri": "https://localhost:8080/"
        },
        "id": "f77e1Qmtigl-",
        "outputId": "933b0ac9-9834-41d8-9852-f70003e62c78"
      },
      "execution_count": 51,
      "outputs": [
        {
          "output_type": "execute_result",
          "data": {
            "text/plain": [
              "(19925, 13)"
            ]
          },
          "metadata": {},
          "execution_count": 51
        }
      ]
    },
    {
      "cell_type": "code",
      "source": [
        "df.info()"
      ],
      "metadata": {
        "id": "ug679C9yitda",
        "colab": {
          "base_uri": "https://localhost:8080/"
        },
        "outputId": "d52920fb-16ec-4eb5-fe55-a6334e2e613f"
      },
      "execution_count": 52,
      "outputs": [
        {
          "output_type": "stream",
          "name": "stdout",
          "text": [
            "<class 'pandas.core.frame.DataFrame'>\n",
            "RangeIndex: 19925 entries, 0 to 19924\n",
            "Data columns (total 13 columns):\n",
            " #   Column        Non-Null Count  Dtype         \n",
            "---  ------        --------------  -----         \n",
            " 0   show_id       19925 non-null  object        \n",
            " 1   type          19925 non-null  object        \n",
            " 2   title         19925 non-null  object        \n",
            " 3   director      14736 non-null  object        \n",
            " 4   cast          17677 non-null  object        \n",
            " 5   country       9879 non-null   object        \n",
            " 6   date_added    10399 non-null  datetime64[ns]\n",
            " 7   release_year  19925 non-null  int64         \n",
            " 8   rating        19581 non-null  object        \n",
            " 9   duration      19922 non-null  object        \n",
            " 10  listed_in     19925 non-null  object        \n",
            " 11  description   19925 non-null  object        \n",
            " 12  platform      19925 non-null  object        \n",
            "dtypes: datetime64[ns](1), int64(1), object(11)\n",
            "memory usage: 2.0+ MB\n"
          ]
        }
      ]
    },
    {
      "cell_type": "code",
      "source": [
        "df.duplicated().sum()"
      ],
      "metadata": {
        "colab": {
          "base_uri": "https://localhost:8080/"
        },
        "id": "7AmE5Zjoaogw",
        "outputId": "c8912ba6-511f-4374-bf00-e145bbf48ef8"
      },
      "execution_count": 76,
      "outputs": [
        {
          "output_type": "execute_result",
          "data": {
            "text/plain": [
              "0"
            ]
          },
          "metadata": {},
          "execution_count": 76
        }
      ]
    },
    {
      "cell_type": "markdown",
      "source": [
        "There is not a single duplicate value present in our dataset.\n",
        "\n"
      ],
      "metadata": {
        "id": "fPYmlOBIaqV4"
      }
    },
    {
      "cell_type": "markdown",
      "source": [
        "## Cleaning the data:"
      ],
      "metadata": {
        "id": "aMp_a7GwTBRf"
      }
    },
    {
      "cell_type": "markdown",
      "source": [
        "### Handling the null values:\n"
      ],
      "metadata": {
        "id": "gRCyz7xpTFeB"
      }
    },
    {
      "cell_type": "code",
      "source": [
        "df['country'].fillna(df['country'].mode()[0],inplace=True)"
      ],
      "metadata": {
        "id": "tWh3t_2CU9sB"
      },
      "execution_count": 53,
      "outputs": []
    },
    {
      "cell_type": "markdown",
      "source": [
        "The mode for the column 'country'.\n",
        "\n",
        "Here we replaced the missing value of the country table with the mode of this coluns which is (The United States)."
      ],
      "metadata": {
        "id": "zipvKZW-XQCT"
      }
    },
    {
      "cell_type": "code",
      "source": [
        "df['country'].isna().value_counts()"
      ],
      "metadata": {
        "colab": {
          "base_uri": "https://localhost:8080/"
        },
        "id": "QMUg2QcuYPco",
        "outputId": "f779920e-1313-4509-9201-5672d1b48658"
      },
      "execution_count": 54,
      "outputs": [
        {
          "output_type": "execute_result",
          "data": {
            "text/plain": [
              "False    19925\n",
              "Name: country, dtype: int64"
            ]
          },
          "metadata": {},
          "execution_count": 54
        }
      ]
    },
    {
      "cell_type": "markdown",
      "source": [
        "There are no missing values now in country column."
      ],
      "metadata": {
        "id": "U5qm2h8WXhTE"
      }
    },
    {
      "cell_type": "code",
      "source": [
        "df['director'].fillna('Unknown',inplace=True)"
      ],
      "metadata": {
        "id": "cQETefJfY2_u"
      },
      "execution_count": 55,
      "outputs": []
    },
    {
      "cell_type": "code",
      "source": [
        "df['director'].isna().value_counts()"
      ],
      "metadata": {
        "colab": {
          "base_uri": "https://localhost:8080/"
        },
        "id": "vfZy3_VQZ6t9",
        "outputId": "41773ec9-e507-40f6-b26b-c2b3cb56e1ad"
      },
      "execution_count": 56,
      "outputs": [
        {
          "output_type": "execute_result",
          "data": {
            "text/plain": [
              "False    19925\n",
              "Name: director, dtype: int64"
            ]
          },
          "metadata": {},
          "execution_count": 56
        }
      ]
    },
    {
      "cell_type": "markdown",
      "source": [
        "We replaced the null values of this column to a default value: (Unknown), because it does not make sense to use the mode in this condition."
      ],
      "metadata": {
        "id": "VkkGQ7b7XpSH"
      }
    },
    {
      "cell_type": "code",
      "source": [
        "df['cast'].fillna('Unknown',inplace=True)\n",
        "df['cast'].isna().value_counts()"
      ],
      "metadata": {
        "colab": {
          "base_uri": "https://localhost:8080/"
        },
        "id": "oXgPeV8-fWoV",
        "outputId": "da5d5a2d-a8df-4b9d-997f-639e2b59ff6d"
      },
      "execution_count": 57,
      "outputs": [
        {
          "output_type": "execute_result",
          "data": {
            "text/plain": [
              "False    19925\n",
              "Name: cast, dtype: int64"
            ]
          },
          "metadata": {},
          "execution_count": 57
        }
      ]
    },
    {
      "cell_type": "code",
      "source": [
        "mean_date_added = df['date_added'].mean()\n",
        "df['date_added']=df['date_added'].fillna(mean_date_added)\n",
        "df['date_added'].isna().value_counts()"
      ],
      "metadata": {
        "colab": {
          "base_uri": "https://localhost:8080/"
        },
        "id": "HVgq3ZKJaTAc",
        "outputId": "43a591a2-9f53-44e4-af1d-85459b5c7642"
      },
      "execution_count": 58,
      "outputs": [
        {
          "output_type": "execute_result",
          "data": {
            "text/plain": [
              "False    19925\n",
              "Name: date_added, dtype: int64"
            ]
          },
          "metadata": {},
          "execution_count": 58
        }
      ]
    },
    {
      "cell_type": "markdown",
      "source": [
        "There are a kot of ways to handle missing dates in python , in this particular notebook, we will replace the nulls with the mean of the dates.\n",
        "\n",
        "There are other ways like dropping the missing values or using external datasets , but here we will assume that the mean method is a valid way to handle the dates."
      ],
      "metadata": {
        "id": "FIIoIFG3X1Z7"
      }
    },
    {
      "cell_type": "markdown",
      "source": [
        "\n",
        "Removing the remaining rows with null values:"
      ],
      "metadata": {
        "id": "uFLC6nNlYDg3"
      }
    },
    {
      "cell_type": "code",
      "source": [
        "df=df.dropna()\n",
        "df.info()"
      ],
      "metadata": {
        "colab": {
          "base_uri": "https://localhost:8080/"
        },
        "id": "wKKsudWJiuMv",
        "outputId": "84255af2-bb69-46c0-ca45-12906524db8f"
      },
      "execution_count": 59,
      "outputs": [
        {
          "output_type": "stream",
          "name": "stdout",
          "text": [
            "<class 'pandas.core.frame.DataFrame'>\n",
            "Int64Index: 19578 entries, 0 to 19924\n",
            "Data columns (total 13 columns):\n",
            " #   Column        Non-Null Count  Dtype         \n",
            "---  ------        --------------  -----         \n",
            " 0   show_id       19578 non-null  object        \n",
            " 1   type          19578 non-null  object        \n",
            " 2   title         19578 non-null  object        \n",
            " 3   director      19578 non-null  object        \n",
            " 4   cast          19578 non-null  object        \n",
            " 5   country       19578 non-null  object        \n",
            " 6   date_added    19578 non-null  datetime64[ns]\n",
            " 7   release_year  19578 non-null  int64         \n",
            " 8   rating        19578 non-null  object        \n",
            " 9   duration      19578 non-null  object        \n",
            " 10  listed_in     19578 non-null  object        \n",
            " 11  description   19578 non-null  object        \n",
            " 12  platform      19578 non-null  object        \n",
            "dtypes: datetime64[ns](1), int64(1), object(11)\n",
            "memory usage: 2.1+ MB\n"
          ]
        }
      ]
    },
    {
      "cell_type": "markdown",
      "source": [
        "Now there are no missing values in the data set."
      ],
      "metadata": {
        "id": "yf1rN16ruRSc"
      }
    },
    {
      "cell_type": "code",
      "source": [
        "df_movies=df[df['type']=='Movie']\n",
        "df_shows=df[df['type']=='TV Show']\n"
      ],
      "metadata": {
        "id": "D8gzHLj8u0gx"
      },
      "execution_count": 65,
      "outputs": []
    },
    {
      "cell_type": "markdown",
      "source": [
        "Splitting the dataset into movies dataset and shows dataset."
      ],
      "metadata": {
        "id": "9MJV-zuce7qu"
      }
    },
    {
      "cell_type": "markdown",
      "source": [
        "## Extracting insights from the data:\n",
        "##### One way of handling the null values is imputing missing values with a default value or the mode of non-null values (assuming that the missing data are missing completely at random (MCAR) or missing at random (MAR).)"
      ],
      "metadata": {
        "id": "3n1ATJEUjB3m"
      }
    },
    {
      "cell_type": "code",
      "source": [
        "df['type'].unique()"
      ],
      "metadata": {
        "colab": {
          "base_uri": "https://localhost:8080/"
        },
        "id": "q8ZXQbsyi1dC",
        "outputId": "9bcb2e88-153b-4fee-99ff-394d3645d068"
      },
      "execution_count": 60,
      "outputs": [
        {
          "output_type": "execute_result",
          "data": {
            "text/plain": [
              "array(['Movie', 'TV Show'], dtype=object)"
            ]
          },
          "metadata": {},
          "execution_count": 60
        }
      ]
    },
    {
      "cell_type": "markdown",
      "source": [
        "There are two types of programs : Movies and TV Shows."
      ],
      "metadata": {
        "id": "RK-MVnpVXDvp"
      }
    },
    {
      "cell_type": "code",
      "source": [
        "np.size(df['director'].unique())"
      ],
      "metadata": {
        "colab": {
          "base_uri": "https://localhost:8080/"
        },
        "id": "k1QycQYyjuRn",
        "outputId": "e4bbbc7a-5e49-4ca6-8954-39f6621e5c6d"
      },
      "execution_count": 61,
      "outputs": [
        {
          "output_type": "execute_result",
          "data": {
            "text/plain": [
              "9904"
            ]
          },
          "metadata": {},
          "execution_count": 61
        }
      ]
    },
    {
      "cell_type": "markdown",
      "source": [
        "There are 9904 directors in this dataset."
      ],
      "metadata": {
        "id": "eV5JLpFYW53e"
      }
    },
    {
      "cell_type": "code",
      "source": [
        "df['rating'].value_counts()"
      ],
      "metadata": {
        "colab": {
          "base_uri": "https://localhost:8080/"
        },
        "id": "qHpFgeoHVMjt",
        "outputId": "13660aba-7ab6-4015-ff32-1c46c7cf3624"
      },
      "execution_count": 74,
      "outputs": [
        {
          "output_type": "execute_result",
          "data": {
            "text/plain": [
              "TV-MA       3284\n",
              "TV-14       2447\n",
              "13+         2117\n",
              "R           1809\n",
              "16+         1547\n",
              "TV-PG       1333\n",
              "ALL         1268\n",
              "18+         1243\n",
              "PG-13        949\n",
              "PG           776\n",
              "TV-G         619\n",
              "TV-Y7        504\n",
              "TV-Y         431\n",
              "G            387\n",
              "7+           385\n",
              "NR           303\n",
              "TV-NR        105\n",
              "UNRATED       33\n",
              "TV-Y7-FV      19\n",
              "NC-17          6\n",
              "AGES_18_       3\n",
              "UR             3\n",
              "NOT_RATE       3\n",
              "AGES_16_       2\n",
              "16             1\n",
              "ALL_AGES       1\n",
              "Name: rating, dtype: int64"
            ]
          },
          "metadata": {},
          "execution_count": 74
        }
      ]
    },
    {
      "cell_type": "markdown",
      "source": [
        "These are the MPA Film Ratings.\n",
        "MPA stands for Motion Picture Associations, their film rating system provides parents with the information needed to determine if a film is appropriate for their children.\n",
        "Ratings Guide:\n",
        "TV-MA : Unsuitable for children under 17 (Mature Audience Only).\n",
        "\n",
        "* **TV-MA** : Unsuitable for children under 14.\n",
        "* **TV-PG** : Parents or guardians may find inappropriate for younger children.\n",
        "* **R** : Under 17 requires accompanying parent or adult guardian (Restricted).\n",
        "* **PG-13** : Parents strongly cautioned, some material may be inappropriate for children under 13.\n",
        "* **V-Y** : Programs aimed at a very young audience, including children from ages 2-6.\n",
        "* **TV-Y7** : Programs most appropriate for children age 7 and up.\n",
        "* **PG** : Some material may not be suitable for children (Parental Guidance suggested).\n",
        "* **TV-G** : Programs suitable for all ages; these are not necessarily children's shows.\n",
        "* **NR** : (Not Rated)\n",
        "* **G** : (General Audiences)\n",
        "* **TV-Y7-FV** : Programming with fantasy violence that may be more intense or more combative than other programming in the TV-Y7 category.\n",
        "* **UR** : (Un-rated) (Same as NR)\n",
        "* **NC-17** : No children under 17"
      ],
      "metadata": {
        "id": "_nYFrVt8Va3v"
      }
    },
    {
      "cell_type": "markdown",
      "source": [
        "The oldest 10 **Movies**:"
      ],
      "metadata": {
        "id": "MQkOauzjgGeL"
      }
    },
    {
      "cell_type": "code",
      "source": [
        "oldest_10_movies=df_movies.sort_values('release_year').head(10)\n",
        "oldest_10_movies[['title','release_year','rating','platform']]"
      ],
      "metadata": {
        "colab": {
          "base_uri": "https://localhost:8080/",
          "height": 363
        },
        "id": "n_5Vh5kmfWpd",
        "outputId": "42f7d07a-22f4-4c4a-dfa5-8ffa94473fc6"
      },
      "execution_count": 82,
      "outputs": [
        {
          "output_type": "execute_result",
          "data": {
            "text/plain": [
              "                                                   title  release_year rating  \\\n",
              "8890                                    Within Our Gates          1920    13+   \n",
              "10281                                Nomads Of The North          1920    13+   \n",
              "10091                                          Pollyanna          1920     NR   \n",
              "10232                                 One Exciting Night          1922    13+   \n",
              "9950                                 Robin Hood (Silent)          1922    13+   \n",
              "10491                                     Merry-Go-Round          1923    13+   \n",
              "9941                                              Romola          1924     NR   \n",
              "16405   The Monster - Lon Chaney's Uncut Horror Classic!          1925    13+   \n",
              "16425  Lon Chaney in The Unholy Three - The Original ...          1925    13+   \n",
              "9492                               The Eagle (No Dialog)          1925    13+   \n",
              "\n",
              "      platform  \n",
              "8890    amazon  \n",
              "10281   amazon  \n",
              "10091   amazon  \n",
              "10232   amazon  \n",
              "9950    amazon  \n",
              "10491   amazon  \n",
              "9941    amazon  \n",
              "16405   amazon  \n",
              "16425   amazon  \n",
              "9492    amazon  "
            ],
            "text/html": [
              "\n",
              "  <div id=\"df-d14303f7-c1ab-4753-be12-fed541e8bc9d\">\n",
              "    <div class=\"colab-df-container\">\n",
              "      <div>\n",
              "<style scoped>\n",
              "    .dataframe tbody tr th:only-of-type {\n",
              "        vertical-align: middle;\n",
              "    }\n",
              "\n",
              "    .dataframe tbody tr th {\n",
              "        vertical-align: top;\n",
              "    }\n",
              "\n",
              "    .dataframe thead th {\n",
              "        text-align: right;\n",
              "    }\n",
              "</style>\n",
              "<table border=\"1\" class=\"dataframe\">\n",
              "  <thead>\n",
              "    <tr style=\"text-align: right;\">\n",
              "      <th></th>\n",
              "      <th>title</th>\n",
              "      <th>release_year</th>\n",
              "      <th>rating</th>\n",
              "      <th>platform</th>\n",
              "    </tr>\n",
              "  </thead>\n",
              "  <tbody>\n",
              "    <tr>\n",
              "      <th>8890</th>\n",
              "      <td>Within Our Gates</td>\n",
              "      <td>1920</td>\n",
              "      <td>13+</td>\n",
              "      <td>amazon</td>\n",
              "    </tr>\n",
              "    <tr>\n",
              "      <th>10281</th>\n",
              "      <td>Nomads Of The North</td>\n",
              "      <td>1920</td>\n",
              "      <td>13+</td>\n",
              "      <td>amazon</td>\n",
              "    </tr>\n",
              "    <tr>\n",
              "      <th>10091</th>\n",
              "      <td>Pollyanna</td>\n",
              "      <td>1920</td>\n",
              "      <td>NR</td>\n",
              "      <td>amazon</td>\n",
              "    </tr>\n",
              "    <tr>\n",
              "      <th>10232</th>\n",
              "      <td>One Exciting Night</td>\n",
              "      <td>1922</td>\n",
              "      <td>13+</td>\n",
              "      <td>amazon</td>\n",
              "    </tr>\n",
              "    <tr>\n",
              "      <th>9950</th>\n",
              "      <td>Robin Hood (Silent)</td>\n",
              "      <td>1922</td>\n",
              "      <td>13+</td>\n",
              "      <td>amazon</td>\n",
              "    </tr>\n",
              "    <tr>\n",
              "      <th>10491</th>\n",
              "      <td>Merry-Go-Round</td>\n",
              "      <td>1923</td>\n",
              "      <td>13+</td>\n",
              "      <td>amazon</td>\n",
              "    </tr>\n",
              "    <tr>\n",
              "      <th>9941</th>\n",
              "      <td>Romola</td>\n",
              "      <td>1924</td>\n",
              "      <td>NR</td>\n",
              "      <td>amazon</td>\n",
              "    </tr>\n",
              "    <tr>\n",
              "      <th>16405</th>\n",
              "      <td>The Monster - Lon Chaney's Uncut Horror Classic!</td>\n",
              "      <td>1925</td>\n",
              "      <td>13+</td>\n",
              "      <td>amazon</td>\n",
              "    </tr>\n",
              "    <tr>\n",
              "      <th>16425</th>\n",
              "      <td>Lon Chaney in The Unholy Three - The Original ...</td>\n",
              "      <td>1925</td>\n",
              "      <td>13+</td>\n",
              "      <td>amazon</td>\n",
              "    </tr>\n",
              "    <tr>\n",
              "      <th>9492</th>\n",
              "      <td>The Eagle (No Dialog)</td>\n",
              "      <td>1925</td>\n",
              "      <td>13+</td>\n",
              "      <td>amazon</td>\n",
              "    </tr>\n",
              "  </tbody>\n",
              "</table>\n",
              "</div>\n",
              "      <button class=\"colab-df-convert\" onclick=\"convertToInteractive('df-d14303f7-c1ab-4753-be12-fed541e8bc9d')\"\n",
              "              title=\"Convert this dataframe to an interactive table.\"\n",
              "              style=\"display:none;\">\n",
              "        \n",
              "  <svg xmlns=\"http://www.w3.org/2000/svg\" height=\"24px\"viewBox=\"0 0 24 24\"\n",
              "       width=\"24px\">\n",
              "    <path d=\"M0 0h24v24H0V0z\" fill=\"none\"/>\n",
              "    <path d=\"M18.56 5.44l.94 2.06.94-2.06 2.06-.94-2.06-.94-.94-2.06-.94 2.06-2.06.94zm-11 1L8.5 8.5l.94-2.06 2.06-.94-2.06-.94L8.5 2.5l-.94 2.06-2.06.94zm10 10l.94 2.06.94-2.06 2.06-.94-2.06-.94-.94-2.06-.94 2.06-2.06.94z\"/><path d=\"M17.41 7.96l-1.37-1.37c-.4-.4-.92-.59-1.43-.59-.52 0-1.04.2-1.43.59L10.3 9.45l-7.72 7.72c-.78.78-.78 2.05 0 2.83L4 21.41c.39.39.9.59 1.41.59.51 0 1.02-.2 1.41-.59l7.78-7.78 2.81-2.81c.8-.78.8-2.07 0-2.86zM5.41 20L4 18.59l7.72-7.72 1.47 1.35L5.41 20z\"/>\n",
              "  </svg>\n",
              "      </button>\n",
              "      \n",
              "  <style>\n",
              "    .colab-df-container {\n",
              "      display:flex;\n",
              "      flex-wrap:wrap;\n",
              "      gap: 12px;\n",
              "    }\n",
              "\n",
              "    .colab-df-convert {\n",
              "      background-color: #E8F0FE;\n",
              "      border: none;\n",
              "      border-radius: 50%;\n",
              "      cursor: pointer;\n",
              "      display: none;\n",
              "      fill: #1967D2;\n",
              "      height: 32px;\n",
              "      padding: 0 0 0 0;\n",
              "      width: 32px;\n",
              "    }\n",
              "\n",
              "    .colab-df-convert:hover {\n",
              "      background-color: #E2EBFA;\n",
              "      box-shadow: 0px 1px 2px rgba(60, 64, 67, 0.3), 0px 1px 3px 1px rgba(60, 64, 67, 0.15);\n",
              "      fill: #174EA6;\n",
              "    }\n",
              "\n",
              "    [theme=dark] .colab-df-convert {\n",
              "      background-color: #3B4455;\n",
              "      fill: #D2E3FC;\n",
              "    }\n",
              "\n",
              "    [theme=dark] .colab-df-convert:hover {\n",
              "      background-color: #434B5C;\n",
              "      box-shadow: 0px 1px 3px 1px rgba(0, 0, 0, 0.15);\n",
              "      filter: drop-shadow(0px 1px 2px rgba(0, 0, 0, 0.3));\n",
              "      fill: #FFFFFF;\n",
              "    }\n",
              "  </style>\n",
              "\n",
              "      <script>\n",
              "        const buttonEl =\n",
              "          document.querySelector('#df-d14303f7-c1ab-4753-be12-fed541e8bc9d button.colab-df-convert');\n",
              "        buttonEl.style.display =\n",
              "          google.colab.kernel.accessAllowed ? 'block' : 'none';\n",
              "\n",
              "        async function convertToInteractive(key) {\n",
              "          const element = document.querySelector('#df-d14303f7-c1ab-4753-be12-fed541e8bc9d');\n",
              "          const dataTable =\n",
              "            await google.colab.kernel.invokeFunction('convertToInteractive',\n",
              "                                                     [key], {});\n",
              "          if (!dataTable) return;\n",
              "\n",
              "          const docLinkHtml = 'Like what you see? Visit the ' +\n",
              "            '<a target=\"_blank\" href=https://colab.research.google.com/notebooks/data_table.ipynb>data table notebook</a>'\n",
              "            + ' to learn more about interactive tables.';\n",
              "          element.innerHTML = '';\n",
              "          dataTable['output_type'] = 'display_data';\n",
              "          await google.colab.output.renderOutput(dataTable, element);\n",
              "          const docLink = document.createElement('div');\n",
              "          docLink.innerHTML = docLinkHtml;\n",
              "          element.appendChild(docLink);\n",
              "        }\n",
              "      </script>\n",
              "    </div>\n",
              "  </div>\n",
              "  "
            ]
          },
          "metadata": {},
          "execution_count": 82
        }
      ]
    },
    {
      "cell_type": "markdown",
      "source": [
        "The oldest 10 **TV Shows**:"
      ],
      "metadata": {
        "id": "LMjdp-DdgyTB"
      }
    },
    {
      "cell_type": "code",
      "source": [
        "oldest_10_shows=df_shows.sort_values('release_year').head(10)\n",
        "oldest_10_shows[['title','release_year','rating','platform']]"
      ],
      "metadata": {
        "colab": {
          "base_uri": "https://localhost:8080/",
          "height": 363
        },
        "id": "gRY6Pf7hhCI8",
        "outputId": "e8173b25-66c9-484b-cefc-6b67a09d9412"
      },
      "execution_count": 83,
      "outputs": [
        {
          "output_type": "execute_result",
          "data": {
            "text/plain": [
              "                                           title  release_year rating platform\n",
              "4250           Pioneers: First Women Filmmakers*          1925  TV-14  netflix\n",
              "17821                              Last Frontier          1932  TV-NR   amazon\n",
              "9550     The Best of The Three Stooges in Color!          1936     7+   amazon\n",
              "1331         Five Came Back: The Reference Films          1945  TV-MA  netflix\n",
              "10801  Jungle Queen: 2K Restored Special Edition          1945    13+   amazon\n",
              "11949   Basil Rathbone Sherlock Holmes in Color!          1946     7+   amazon\n",
              "7743         Pioneers of African-American Cinema          1946  TV-14  netflix\n",
              "17887                    The Best of I Love Lucy          1954  TV-PG   amazon\n",
              "10336                 Napoleon Hill's Master Key          1954     NR   amazon\n",
              "10668                        Life with Elizabeth          1954    13+   amazon"
            ],
            "text/html": [
              "\n",
              "  <div id=\"df-ada368c5-369b-4ef3-82bc-cf213de30bf8\">\n",
              "    <div class=\"colab-df-container\">\n",
              "      <div>\n",
              "<style scoped>\n",
              "    .dataframe tbody tr th:only-of-type {\n",
              "        vertical-align: middle;\n",
              "    }\n",
              "\n",
              "    .dataframe tbody tr th {\n",
              "        vertical-align: top;\n",
              "    }\n",
              "\n",
              "    .dataframe thead th {\n",
              "        text-align: right;\n",
              "    }\n",
              "</style>\n",
              "<table border=\"1\" class=\"dataframe\">\n",
              "  <thead>\n",
              "    <tr style=\"text-align: right;\">\n",
              "      <th></th>\n",
              "      <th>title</th>\n",
              "      <th>release_year</th>\n",
              "      <th>rating</th>\n",
              "      <th>platform</th>\n",
              "    </tr>\n",
              "  </thead>\n",
              "  <tbody>\n",
              "    <tr>\n",
              "      <th>4250</th>\n",
              "      <td>Pioneers: First Women Filmmakers*</td>\n",
              "      <td>1925</td>\n",
              "      <td>TV-14</td>\n",
              "      <td>netflix</td>\n",
              "    </tr>\n",
              "    <tr>\n",
              "      <th>17821</th>\n",
              "      <td>Last Frontier</td>\n",
              "      <td>1932</td>\n",
              "      <td>TV-NR</td>\n",
              "      <td>amazon</td>\n",
              "    </tr>\n",
              "    <tr>\n",
              "      <th>9550</th>\n",
              "      <td>The Best of The Three Stooges in Color!</td>\n",
              "      <td>1936</td>\n",
              "      <td>7+</td>\n",
              "      <td>amazon</td>\n",
              "    </tr>\n",
              "    <tr>\n",
              "      <th>1331</th>\n",
              "      <td>Five Came Back: The Reference Films</td>\n",
              "      <td>1945</td>\n",
              "      <td>TV-MA</td>\n",
              "      <td>netflix</td>\n",
              "    </tr>\n",
              "    <tr>\n",
              "      <th>10801</th>\n",
              "      <td>Jungle Queen: 2K Restored Special Edition</td>\n",
              "      <td>1945</td>\n",
              "      <td>13+</td>\n",
              "      <td>amazon</td>\n",
              "    </tr>\n",
              "    <tr>\n",
              "      <th>11949</th>\n",
              "      <td>Basil Rathbone Sherlock Holmes in Color!</td>\n",
              "      <td>1946</td>\n",
              "      <td>7+</td>\n",
              "      <td>amazon</td>\n",
              "    </tr>\n",
              "    <tr>\n",
              "      <th>7743</th>\n",
              "      <td>Pioneers of African-American Cinema</td>\n",
              "      <td>1946</td>\n",
              "      <td>TV-14</td>\n",
              "      <td>netflix</td>\n",
              "    </tr>\n",
              "    <tr>\n",
              "      <th>17887</th>\n",
              "      <td>The Best of I Love Lucy</td>\n",
              "      <td>1954</td>\n",
              "      <td>TV-PG</td>\n",
              "      <td>amazon</td>\n",
              "    </tr>\n",
              "    <tr>\n",
              "      <th>10336</th>\n",
              "      <td>Napoleon Hill's Master Key</td>\n",
              "      <td>1954</td>\n",
              "      <td>NR</td>\n",
              "      <td>amazon</td>\n",
              "    </tr>\n",
              "    <tr>\n",
              "      <th>10668</th>\n",
              "      <td>Life with Elizabeth</td>\n",
              "      <td>1954</td>\n",
              "      <td>13+</td>\n",
              "      <td>amazon</td>\n",
              "    </tr>\n",
              "  </tbody>\n",
              "</table>\n",
              "</div>\n",
              "      <button class=\"colab-df-convert\" onclick=\"convertToInteractive('df-ada368c5-369b-4ef3-82bc-cf213de30bf8')\"\n",
              "              title=\"Convert this dataframe to an interactive table.\"\n",
              "              style=\"display:none;\">\n",
              "        \n",
              "  <svg xmlns=\"http://www.w3.org/2000/svg\" height=\"24px\"viewBox=\"0 0 24 24\"\n",
              "       width=\"24px\">\n",
              "    <path d=\"M0 0h24v24H0V0z\" fill=\"none\"/>\n",
              "    <path d=\"M18.56 5.44l.94 2.06.94-2.06 2.06-.94-2.06-.94-.94-2.06-.94 2.06-2.06.94zm-11 1L8.5 8.5l.94-2.06 2.06-.94-2.06-.94L8.5 2.5l-.94 2.06-2.06.94zm10 10l.94 2.06.94-2.06 2.06-.94-2.06-.94-.94-2.06-.94 2.06-2.06.94z\"/><path d=\"M17.41 7.96l-1.37-1.37c-.4-.4-.92-.59-1.43-.59-.52 0-1.04.2-1.43.59L10.3 9.45l-7.72 7.72c-.78.78-.78 2.05 0 2.83L4 21.41c.39.39.9.59 1.41.59.51 0 1.02-.2 1.41-.59l7.78-7.78 2.81-2.81c.8-.78.8-2.07 0-2.86zM5.41 20L4 18.59l7.72-7.72 1.47 1.35L5.41 20z\"/>\n",
              "  </svg>\n",
              "      </button>\n",
              "      \n",
              "  <style>\n",
              "    .colab-df-container {\n",
              "      display:flex;\n",
              "      flex-wrap:wrap;\n",
              "      gap: 12px;\n",
              "    }\n",
              "\n",
              "    .colab-df-convert {\n",
              "      background-color: #E8F0FE;\n",
              "      border: none;\n",
              "      border-radius: 50%;\n",
              "      cursor: pointer;\n",
              "      display: none;\n",
              "      fill: #1967D2;\n",
              "      height: 32px;\n",
              "      padding: 0 0 0 0;\n",
              "      width: 32px;\n",
              "    }\n",
              "\n",
              "    .colab-df-convert:hover {\n",
              "      background-color: #E2EBFA;\n",
              "      box-shadow: 0px 1px 2px rgba(60, 64, 67, 0.3), 0px 1px 3px 1px rgba(60, 64, 67, 0.15);\n",
              "      fill: #174EA6;\n",
              "    }\n",
              "\n",
              "    [theme=dark] .colab-df-convert {\n",
              "      background-color: #3B4455;\n",
              "      fill: #D2E3FC;\n",
              "    }\n",
              "\n",
              "    [theme=dark] .colab-df-convert:hover {\n",
              "      background-color: #434B5C;\n",
              "      box-shadow: 0px 1px 3px 1px rgba(0, 0, 0, 0.15);\n",
              "      filter: drop-shadow(0px 1px 2px rgba(0, 0, 0, 0.3));\n",
              "      fill: #FFFFFF;\n",
              "    }\n",
              "  </style>\n",
              "\n",
              "      <script>\n",
              "        const buttonEl =\n",
              "          document.querySelector('#df-ada368c5-369b-4ef3-82bc-cf213de30bf8 button.colab-df-convert');\n",
              "        buttonEl.style.display =\n",
              "          google.colab.kernel.accessAllowed ? 'block' : 'none';\n",
              "\n",
              "        async function convertToInteractive(key) {\n",
              "          const element = document.querySelector('#df-ada368c5-369b-4ef3-82bc-cf213de30bf8');\n",
              "          const dataTable =\n",
              "            await google.colab.kernel.invokeFunction('convertToInteractive',\n",
              "                                                     [key], {});\n",
              "          if (!dataTable) return;\n",
              "\n",
              "          const docLinkHtml = 'Like what you see? Visit the ' +\n",
              "            '<a target=\"_blank\" href=https://colab.research.google.com/notebooks/data_table.ipynb>data table notebook</a>'\n",
              "            + ' to learn more about interactive tables.';\n",
              "          element.innerHTML = '';\n",
              "          dataTable['output_type'] = 'display_data';\n",
              "          await google.colab.output.renderOutput(dataTable, element);\n",
              "          const docLink = document.createElement('div');\n",
              "          docLink.innerHTML = docLinkHtml;\n",
              "          element.appendChild(docLink);\n",
              "        }\n",
              "      </script>\n",
              "    </div>\n",
              "  </div>\n",
              "  "
            ]
          },
          "metadata": {},
          "execution_count": 83
        }
      ]
    },
    {
      "cell_type": "markdown",
      "source": [
        "## Data Visualization:"
      ],
      "metadata": {
        "id": "oX9i6cP4fFXJ"
      }
    },
    {
      "cell_type": "code",
      "source": [
        "sns.set_style('whitegrid')\n",
        "sns.set_context('notebook')\n",
        "g=sns.catplot(x='rating',kind='count',data=df,col='type',height=7)\n",
        "g.set_xticklabels(rotation=90)\n",
        "g.set(xlabel='The rating',ylabel='The count of each rating')\n",
        "g.fig.suptitle('Number of movies and shows per type and rating',y=1.03)\n",
        "g.set_titles('{col_name}s')\n",
        "\n",
        "plt.show()\n"
      ],
      "metadata": {
        "id": "rew-Zs1qj-wL",
        "colab": {
          "base_uri": "https://localhost:8080/",
          "height": 603
        },
        "outputId": "ad6fd316-de52-422f-e78b-d0e71c3156fd"
      },
      "execution_count": 62,
      "outputs": [
        {
          "output_type": "display_data",
          "data": {
            "text/plain": [
              "<Figure size 1008x504 with 2 Axes>"
            ],
            "image/png": "[encoded data removed]"
          },
          "metadata": {}
        }
      ]
    },
    {
      "cell_type": "markdown",
      "source": [
        "This plot shows the number of movies and shows per rating.\n",
        "\n",
        "The most common movies rating are TV-MA, +13 and R."
      ],
      "metadata": {
        "id": "yhn6BtvNkw0E"
      }
    },
    {
      "cell_type": "code",
      "source": [
        "g=sns.catplot(data=df,x='platform',kind='count',palette='ch:s=-.2,r=.6',order=['amazon','netflix','disney'],hue='type',height=6)\n",
        "g.fig.suptitle('The Number of Movies and Shows For Each Platform',y=1.03)\n",
        "g.set(xlabel='Platform',ylabel='Count')\n",
        "plt.show()"
      ],
      "metadata": {
        "id": "SwzIzRuRfHjG",
        "colab": {
          "base_uri": "https://localhost:8080/",
          "height": 463
        },
        "outputId": "8fcb2828-fda0-4877-e3ea-0bfc63567f23"
      },
      "execution_count": 63,
      "outputs": [
        {
          "output_type": "display_data",
          "data": {
            "text/plain": [
              "<Figure size 519.1x432 with 1 Axes>"
            ],
            "image/png": "[encoded data removed]"
          },
          "metadata": {}
        }
      ]
    },
    {
      "cell_type": "markdown",
      "source": [
        "This plot shows that most of the movies of this dataset is in amazon and netflix platforms and there are not much data from disney platform."
      ],
      "metadata": {
        "id": "_-QTnnnbk-TM"
      }
    },
    {
      "cell_type": "code",
      "source": [
        "s_m_per_year=df.groupby('release_year').size()\n",
        "s_m_df=s_m_per_year.reset_index()\n",
        "s_m_df.columns=['year','frequency']\n",
        "g=sns.relplot(data=s_m_df, x='year',y='frequency',kind='line',color='r',height=7)\n",
        "g.fig.suptitle('Number of Movies and Shows Released Per Year',y=1.04)\n",
        "g.set(xlabel='Release Year',ylabel='Number of Movies and Shows')\n",
        "plt.show()"
      ],
      "metadata": {
        "colab": {
          "base_uri": "https://localhost:8080/",
          "height": 542
        },
        "id": "7D80wnWEV6D8",
        "outputId": "29f08aa2-0e0f-4b66-823c-aa3580c92887"
      },
      "execution_count": 64,
      "outputs": [
        {
          "output_type": "display_data",
          "data": {
            "text/plain": [
              "<Figure size 504x504 with 1 Axes>"
            ],
            "image/png": "[encoded data removed]"
          },
          "metadata": {}
        }
      ]
    },
    {
      "cell_type": "markdown",
      "source": [
        "This plot shows the number of movies and shows released per year, and it shows that most of the movies and shows in this dataset are released between 2000 and 2020."
      ],
      "metadata": {
        "id": "rcc58S7ilOgt"
      }
    },
    {
      "cell_type": "code",
      "source": [
        "c=df_shows['duration'].str.replace(r'\\D','')\n",
        "df_shows['duration']=c.apply(int)"
      ],
      "metadata": {
        "id": "JC_Cc7mla4Ze"
      },
      "execution_count": 66,
      "outputs": []
    },
    {
      "cell_type": "markdown",
      "source": [
        "Modifing the duration columns so that it contains only int values."
      ],
      "metadata": {
        "id": "awX484lSlXT4"
      }
    },
    {
      "cell_type": "code",
      "source": [
        "p=df_shows.groupby('duration').size()\n",
        "p.plot(kind='bar',figsize=(10,6),color='red')\n",
        "plt.xlabel('Duration (Season)')\n",
        "plt.ylabel('Count (Number of TV shows)')\n",
        "plt.title('The number of seasons for TV shows ')\n",
        "plt.show()"
      ],
      "metadata": {
        "colab": {
          "base_uri": "https://localhost:8080/",
          "height": 414
        },
        "id": "iNSeyQ7qbAUC",
        "outputId": "b9466d7f-279e-4653-b607-8d21273e8c1f"
      },
      "execution_count": 67,
      "outputs": [
        {
          "output_type": "display_data",
          "data": {
            "text/plain": [
              "<Figure size 720x432 with 1 Axes>"
            ],
            "image/png": "[encoded data removed]"
          },
          "metadata": {}
        }
      ]
    },
    {
      "cell_type": "markdown",
      "source": [
        "Most of the TV shows have one season in this dataset."
      ],
      "metadata": {
        "id": "8koSKOVQlhQs"
      }
    },
    {
      "cell_type": "code",
      "source": [
        "df_movies.duration.str.strip()\n",
        "df_movies['duration']=df_movies['duration'].str.replace(' min','')\n"
      ],
      "metadata": {
        "id": "7tVqwbpleeoO"
      },
      "execution_count": 68,
      "outputs": []
    },
    {
      "cell_type": "code",
      "source": [
        "df_movies['duration']=df_movies['duration'].astype(int)"
      ],
      "metadata": {
        "id": "bkt7eqshhCau"
      },
      "execution_count": 69,
      "outputs": []
    },
    {
      "cell_type": "code",
      "source": [
        "fig, ax = plt.subplots(figsize=(8, 6))\n",
        "g=sns.kdeplot(data=df_movies,x='duration', alpha=0.7,color='g',ax=ax,shade=True)\n",
        "g.set(xlabel='Duration (min)')\n",
        "g.set_title('Distribution of Movies Durations')\n",
        "plt.show()\n",
        "print('The values of the column duration are normally distributed about the mean which is equal to : ', df_movies['duration'].mean(),'min')"
      ],
      "metadata": {
        "colab": {
          "base_uri": "https://localhost:8080/",
          "height": 427
        },
        "id": "nAXcshwPgAzU",
        "outputId": "198e525a-6804-43c9-90eb-1bd287fce044"
      },
      "execution_count": 91,
      "outputs": [
        {
          "output_type": "display_data",
          "data": {
            "text/plain": [
              "<Figure size 576x432 with 1 Axes>"
            ],
            "image/png": "[encoded data removed]"
          },
          "metadata": {}
        },
        {
          "output_type": "stream",
          "name": "stdout",
          "text": [
            "The values of the column duration are normally distributed about the mean which is equal to :  93.64365620736699 min\n"
          ]
        }
      ]
    },
    {
      "cell_type": "code",
      "source": [
        "g=sns.catplot(data=df_movies,y='duration',x='platform',kind='box',flierprops={\"marker\": \"x\"},medianprops={\"color\": \"red\"}, saturation=0.75)\n",
        "g.fig.suptitle('Duration of Movies For Each Platform',y=1.05)\n",
        "plt.show()"
      ],
      "metadata": {
        "colab": {
          "base_uri": "https://localhost:8080/",
          "height": 396
        },
        "id": "l3GxMxdcjrM8",
        "outputId": "fb2640b7-2222-47f1-f81e-b47804f89c8a"
      },
      "execution_count": 71,
      "outputs": [
        {
          "output_type": "display_data",
          "data": {
            "text/plain": [
              "<Figure size 360x360 with 1 Axes>"
            ],
            "image/png": "[encoded data removed]"
          },
          "metadata": {}
        }
      ]
    },
    {
      "cell_type": "markdown",
      "source": [
        "The median of duration of movies for all platforms is near 100 minutes.   \n",
        "The duration of movies is more distributed in Disney Platform."
      ],
      "metadata": {
        "id": "vltExCeGmxvd"
      }
    },
    {
      "cell_type": "code",
      "source": [
        "sns.set_style('whitegrid')\n",
        "g=sns.relplot(data=df_movies,x='release_year',y='duration',kind='line',hue='platform',height=6,palette='mako')\n",
        "g.fig.suptitle('The duration of Movies Through The Years',y=1.05)\n",
        "g.set(xlabel='Year of Release',ylabel='Duration')\n",
        "plt.show()"
      ],
      "metadata": {
        "id": "0jJX8biCkvvk",
        "colab": {
          "base_uri": "https://localhost:8080/",
          "height": 472
        },
        "outputId": "7dac63ba-21bf-4972-aced-22ad0a8c8db5"
      },
      "execution_count": 72,
      "outputs": [
        {
          "output_type": "display_data",
          "data": {
            "text/plain": [
              "<Figure size 515.35x432 with 1 Axes>"
            ],
            "image/png": "[encoded data removed]"
          },
          "metadata": {}
        }
      ]
    },
    {
      "cell_type": "markdown",
      "source": [
        "This plot shows that the duration of Netflix movies are longer than Amazon and Disney movies through the years."
      ],
      "metadata": {
        "id": "VoUYfA-Um-2i"
      }
    },
    {
      "cell_type": "code",
      "source": [
        "df_movies.to_csv('df_movies.csv')\n",
        "df_shows.to_csv('df_shows.csv')\n",
        "df.to_csv('df_modified.csv')"
      ],
      "metadata": {
        "id": "Yrs6vxAqnAX-"
      },
      "execution_count": 92,
      "outputs": []
    },
    {
      "cell_type": "code",
      "source": [],
      "metadata": {
        "id": "3RuJNvifseGs"
      },
      "execution_count": null,
      "outputs": []
    }
  ]
}